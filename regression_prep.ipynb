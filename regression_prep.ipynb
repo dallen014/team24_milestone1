{
 "cells": [
  {
   "cell_type": "markdown",
   "metadata": {},
   "source": [
    "## Factors impacting an NBA players 2023-2024 guaranteed contract value analysis notebook.\n",
    "**What data are we exploring?**<br>\n",
    "I am interested in sports analytics, and my favorite sport is basketball, so I used player performance stats from the last 5 NBA seasons. I wrote custom functions that leverage player names and IDs to pull stats from the NBA_API. After executing the functions and merging the returned dataframes, we have a dataset that contains 476 rows and 21 columns. The columns represent standard NBA performance metrics such as:\n",
    "- total points\n",
    "- total steals\n",
    "- total assists\n",
    "- etc.<br>\n",
    "\n",
    "This notebook aims to inform players and their management firms how player performance impacts contract value.\n"
   ]
  },
  {
   "cell_type": "markdown",
   "metadata": {},
   "source": [
    "### 1. Import libraries required for the analysis"
   ]
  },
  {
   "cell_type": "markdown",
   "metadata": {},
   "source": [
    "Below is a list of libraries used to collect, manipulate, and analyze the data."
   ]
  },
  {
   "cell_type": "code",
   "execution_count": 1,
   "metadata": {},
   "outputs": [],
   "source": [
    "import altair as alt\n",
    "from data_collection import * #custom created functions\n",
    "import matplotlib as plt\n",
    "#import nba_api\n",
    "import numpy as np\n",
    "import pandas as pd\n",
    "import os\n",
    "import seaborn as sns\n",
    "import statsmodels as sm\n",
    "import sys\n",
    "import warnings\n",
    "\n",
    "pd.set_option('display.max_columns', None)\n",
    "pd.set_option('display.max_rows', None)\n",
    "warnings.simplefilter(action='ignore', category=FutureWarning)"
   ]
  },
  {
   "cell_type": "markdown",
   "metadata": {},
   "source": [
    "Check versions to ensure they match requirements.txt file"
   ]
  },
  {
   "cell_type": "code",
   "execution_count": 2,
   "metadata": {},
   "outputs": [
    {
     "name": "stdout",
     "output_type": "stream",
     "text": [
      "Altair: 5.0.1\n",
      "Matplotlib: 3.8.0\n",
      "Numpy: 1.26.3\n",
      "Pandas: 2.1.4\n",
      "Python Version: 3.12.1 | packaged by Anaconda, Inc. | (main, Jan 19 2024, 15:44:08) [MSC v.1916 64 bit (AMD64)]\n",
      "Seaborn: 0.12.2\n",
      "Statsmodels: 0.14.0\n"
     ]
    }
   ],
   "source": [
    "print(\"Altair:\",alt.__version__)\n",
    "print(\"Matplotlib:\",plt.__version__)\n",
    "#print(\"NBA_API:\",nba_api.__version__)\n",
    "print(\"Numpy:\",np.__version__)\n",
    "print(\"Pandas:\",pd.__version__)\n",
    "print(\"Python Version:\",sys.version)\n",
    "print(\"Seaborn:\",sns.__version__)\n",
    "print(\"Statsmodels:\",sm.__version__)"
   ]
  },
  {
   "cell_type": "markdown",
   "metadata": {},
   "source": [
    "### 2. Collecting data"
   ]
  },
  {
   "cell_type": "markdown",
   "metadata": {},
   "source": [
    "Use the custom fucntions to get contract, player IDs, and stats from the last 5 years.<br>\n",
    "Use help(function) to print the associated docString for a function.<br>\n",
    "- ex. help(get_contract_data) prints the following:<br>\n",
    "\n",
    "> Help on function get_contract_data in module data_collection:<br>\n",
    "<br>\n",
    "get_contract_data( )<br>\n",
    "&emsp;Reads the raw 'player_contract_data' file and executes the following<br>\n",
    "&emsp;manipulations:<br>\n",
    "&emsp;&emsp;- Converts the 'Player' column to lowercase<br>\n",
    "&emsp;&emsp;- Replaces accented characters with their english versions.<br>\n",
    "&emsp;&emsp;- Splits the 'Player' column into 'First_Name' and 'Last_Name' columns.<br>\n",
    "&emsp;&emsp;- Drops the original 'Player' column since we no longer need it.<br>\n",
    "&emsp;&emsp;- Rename the '2023-24' column to something more representative<br>\n",
    "&emsp;&emsp;- Drop the extra Reggie Bullock row<br>\n",
    "<br>\n",
    "&emsp;Args:<br>\n",
    "&emsp;&emsp;None<br>\n",
    "<br>\n",
    "&emsp;Returns:<br>\n",
    "&emsp;&emsp;Dataframe: Player with their associated contract values."
   ]
  },
  {
   "cell_type": "code",
   "execution_count": 10,
   "metadata": {},
   "outputs": [
    {
     "data": {
      "text/html": [
       "<div>\n",
       "<style scoped>\n",
       "    .dataframe tbody tr th:only-of-type {\n",
       "        vertical-align: middle;\n",
       "    }\n",
       "\n",
       "    .dataframe tbody tr th {\n",
       "        vertical-align: top;\n",
       "    }\n",
       "\n",
       "    .dataframe thead th {\n",
       "        text-align: right;\n",
       "    }\n",
       "</style>\n",
       "<table border=\"1\" class=\"dataframe\">\n",
       "  <thead>\n",
       "    <tr style=\"text-align: right;\">\n",
       "      <th></th>\n",
       "      <th>Current_Contract</th>\n",
       "      <th>First_Name</th>\n",
       "      <th>Last_Name</th>\n",
       "    </tr>\n",
       "  </thead>\n",
       "  <tbody>\n",
       "    <tr>\n",
       "      <th>0</th>\n",
       "      <td>51915615.0</td>\n",
       "      <td>stephen</td>\n",
       "      <td>curry</td>\n",
       "    </tr>\n",
       "    <tr>\n",
       "      <th>1</th>\n",
       "      <td>47649433.0</td>\n",
       "      <td>kevin</td>\n",
       "      <td>durant</td>\n",
       "    </tr>\n",
       "    <tr>\n",
       "      <th>2</th>\n",
       "      <td>47607350.0</td>\n",
       "      <td>nikola</td>\n",
       "      <td>jokic</td>\n",
       "    </tr>\n",
       "    <tr>\n",
       "      <th>3</th>\n",
       "      <td>47607350.0</td>\n",
       "      <td>joel</td>\n",
       "      <td>embiid</td>\n",
       "    </tr>\n",
       "    <tr>\n",
       "      <th>4</th>\n",
       "      <td>47607350.0</td>\n",
       "      <td>lebron</td>\n",
       "      <td>james</td>\n",
       "    </tr>\n",
       "  </tbody>\n",
       "</table>\n",
       "</div>"
      ],
      "text/plain": [
       "   Current_Contract First_Name Last_Name\n",
       "0        51915615.0    stephen     curry\n",
       "1        47649433.0      kevin    durant\n",
       "2        47607350.0     nikola     jokic\n",
       "3        47607350.0       joel    embiid\n",
       "4        47607350.0     lebron     james"
      ]
     },
     "execution_count": 10,
     "metadata": {},
     "output_type": "execute_result"
    }
   ],
   "source": [
    "contract_data = get_contract_data()\n",
    "contract_data.head()"
   ]
  },
  {
   "cell_type": "code",
   "execution_count": 14,
   "metadata": {},
   "outputs": [
    {
     "data": {
      "text/html": [
       "<div>\n",
       "<style scoped>\n",
       "    .dataframe tbody tr th:only-of-type {\n",
       "        vertical-align: middle;\n",
       "    }\n",
       "\n",
       "    .dataframe tbody tr th {\n",
       "        vertical-align: top;\n",
       "    }\n",
       "\n",
       "    .dataframe thead th {\n",
       "        text-align: right;\n",
       "    }\n",
       "</style>\n",
       "<table border=\"1\" class=\"dataframe\">\n",
       "  <thead>\n",
       "    <tr style=\"text-align: right;\">\n",
       "      <th></th>\n",
       "      <th>First_Name</th>\n",
       "      <th>Last_Name</th>\n",
       "      <th>PlayerID</th>\n",
       "    </tr>\n",
       "  </thead>\n",
       "  <tbody>\n",
       "    <tr>\n",
       "      <th>0</th>\n",
       "      <td>alaa</td>\n",
       "      <td>abdelnaby</td>\n",
       "      <td>76001</td>\n",
       "    </tr>\n",
       "    <tr>\n",
       "      <th>1</th>\n",
       "      <td>zaid</td>\n",
       "      <td>abdul-aziz</td>\n",
       "      <td>76002</td>\n",
       "    </tr>\n",
       "    <tr>\n",
       "      <th>2</th>\n",
       "      <td>kareem</td>\n",
       "      <td>abdul-jabbar</td>\n",
       "      <td>76003</td>\n",
       "    </tr>\n",
       "    <tr>\n",
       "      <th>3</th>\n",
       "      <td>mahmoud</td>\n",
       "      <td>abdul-rauf</td>\n",
       "      <td>51</td>\n",
       "    </tr>\n",
       "    <tr>\n",
       "      <th>4</th>\n",
       "      <td>tariq</td>\n",
       "      <td>abdul-wahad</td>\n",
       "      <td>1505</td>\n",
       "    </tr>\n",
       "  </tbody>\n",
       "</table>\n",
       "</div>"
      ],
      "text/plain": [
       "  First_Name     Last_Name PlayerID\n",
       "0       alaa     abdelnaby    76001\n",
       "1       zaid    abdul-aziz    76002\n",
       "2     kareem  abdul-jabbar    76003\n",
       "3    mahmoud    abdul-rauf       51\n",
       "4      tariq   abdul-wahad     1505"
      ]
     },
     "execution_count": 14,
     "metadata": {},
     "output_type": "execute_result"
    }
   ],
   "source": [
    "id_data = get_players_with_ids()\n",
    "id_data.head()"
   ]
  },
  {
   "cell_type": "code",
   "execution_count": 15,
   "metadata": {},
   "outputs": [
    {
     "data": {
      "text/html": [
       "<div>\n",
       "<style scoped>\n",
       "    .dataframe tbody tr th:only-of-type {\n",
       "        vertical-align: middle;\n",
       "    }\n",
       "\n",
       "    .dataframe tbody tr th {\n",
       "        vertical-align: top;\n",
       "    }\n",
       "\n",
       "    .dataframe thead th {\n",
       "        text-align: right;\n",
       "    }\n",
       "</style>\n",
       "<table border=\"1\" class=\"dataframe\">\n",
       "  <thead>\n",
       "    <tr style=\"text-align: right;\">\n",
       "      <th></th>\n",
       "      <th>Current_Contract</th>\n",
       "      <th>First_Name</th>\n",
       "      <th>Last_Name</th>\n",
       "      <th>PlayerID</th>\n",
       "    </tr>\n",
       "  </thead>\n",
       "  <tbody>\n",
       "    <tr>\n",
       "      <th>0</th>\n",
       "      <td>51915615.0</td>\n",
       "      <td>stephen</td>\n",
       "      <td>curry</td>\n",
       "      <td>201939</td>\n",
       "    </tr>\n",
       "    <tr>\n",
       "      <th>1</th>\n",
       "      <td>47649433.0</td>\n",
       "      <td>kevin</td>\n",
       "      <td>durant</td>\n",
       "      <td>201142</td>\n",
       "    </tr>\n",
       "    <tr>\n",
       "      <th>2</th>\n",
       "      <td>47607350.0</td>\n",
       "      <td>nikola</td>\n",
       "      <td>jokic</td>\n",
       "      <td>203999</td>\n",
       "    </tr>\n",
       "    <tr>\n",
       "      <th>3</th>\n",
       "      <td>47607350.0</td>\n",
       "      <td>joel</td>\n",
       "      <td>embiid</td>\n",
       "      <td>203954</td>\n",
       "    </tr>\n",
       "    <tr>\n",
       "      <th>4</th>\n",
       "      <td>47607350.0</td>\n",
       "      <td>lebron</td>\n",
       "      <td>james</td>\n",
       "      <td>2544</td>\n",
       "    </tr>\n",
       "  </tbody>\n",
       "</table>\n",
       "</div>"
      ],
      "text/plain": [
       "   Current_Contract First_Name Last_Name PlayerID\n",
       "0        51915615.0    stephen     curry   201939\n",
       "1        47649433.0      kevin    durant   201142\n",
       "2        47607350.0     nikola     jokic   203999\n",
       "3        47607350.0       joel    embiid   203954\n",
       "4        47607350.0     lebron     james     2544"
      ]
     },
     "execution_count": 15,
     "metadata": {},
     "output_type": "execute_result"
    }
   ],
   "source": [
    "# Left join to get IDs added to the contracts dataframe\n",
    "contract_with_ids = pd.merge(contract_data, id_data, \n",
    "                             left_on=['First_Name', 'Last_Name'], \n",
    "                             right_on=['First_Name', 'Last_Name'], how='left')\n",
    "\n",
    "contract_with_ids.head()"
   ]
  },
  {
   "cell_type": "code",
   "execution_count": 17,
   "metadata": {},
   "outputs": [],
   "source": [
    "#get career stats from a players last five years in batches of 50\n",
    "stats_df = get_analysis_df(50,contract_with_ids)\n",
    "stats_df.head()"
   ]
  },
  {
   "cell_type": "code",
   "execution_count": null,
   "metadata": {},
   "outputs": [],
   "source": [
    "#save file in case API has issues\n",
    "#id_data.to_csv('data/player_ids.csv', index= False)"
   ]
  }
 ],
 "metadata": {
  "kernelspec": {
   "display_name": "team24_milestone1",
   "language": "python",
   "name": "python3"
  },
  "language_info": {
   "codemirror_mode": {
    "name": "ipython",
    "version": 3
   },
   "file_extension": ".py",
   "mimetype": "text/x-python",
   "name": "python",
   "nbconvert_exporter": "python",
   "pygments_lexer": "ipython3",
   "version": "3.12.1"
  }
 },
 "nbformat": 4,
 "nbformat_minor": 2
}
